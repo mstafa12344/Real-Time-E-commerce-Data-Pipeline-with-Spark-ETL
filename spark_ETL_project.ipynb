{
 "cells": [
  {
   "cell_type": "markdown",
   "id": "5da05f81",
   "metadata": {},
   "source": [
    "# Data Ingestion - Load Large Datasets"
   ]
  },
  {
   "cell_type": "code",
   "execution_count": 1,
   "id": "f931d347",
   "metadata": {},
   "outputs": [
    {
     "name": "stderr",
     "output_type": "stream",
     "text": [
      "                                                                                \r"
     ]
    },
    {
     "name": "stdout",
     "output_type": "stream",
     "text": [
      "Transactions Table:\n",
      "+--------------+-------+----------+--------+------+----------------+\n",
      "|transaction_id|user_id|product_id|quantity|amount|transaction_date|\n",
      "+--------------+-------+----------+--------+------+----------------+\n",
      "|             1|   5388|      9152|       9|305.67|      2023-01-07|\n",
      "|             2|  31656|      5763|       1|184.31|      2023-05-16|\n",
      "|             3|  36725|      4733|       4|  7.66|      2023-01-20|\n",
      "|             4|  22713|      4207|       1|411.73|      2023-04-19|\n",
      "|             5|  74067|      1914|       5|499.21|      2023-08-17|\n",
      "+--------------+-------+----------+--------+------+----------------+\n",
      "only showing top 5 rows\n",
      "\n",
      "Inventory Table:\n",
      "+------+----------+------------+-----------+\n",
      "| price|product_id|product_name|stock_level|\n",
      "+------+----------+------------+-----------+\n",
      "| 91.89|         1|   Product_1|         61|\n",
      "|  9.75|         2|   Product_2|        553|\n",
      "|182.89|         3|   Product_3|        328|\n",
      "|148.38|         4|   Product_4|        347|\n",
      "| 78.17|         5|   Product_5|        180|\n",
      "+------+----------+------------+-----------+\n",
      "only showing top 5 rows\n",
      "\n",
      "Customer Feedback Table:\n",
      "+-------+----------+------+--------------------+-----------+\n",
      "|user_id|product_id|rating|              review|review_date|\n",
      "+-------+----------+------+--------------------+-----------+\n",
      "|   9320|      1971|     4|Review text for p...| 2023-01-11|\n",
      "|  64245|      3664|     4|Review text for p...| 2023-01-23|\n",
      "|  37341|      7419|     4|Review text for p...| 2023-08-14|\n",
      "|  43430|      6536|     2|Review text for p...| 2023-12-29|\n",
      "|   6848|      3038|     1|Review text for p...| 2023-08-03|\n",
      "+-------+----------+------+--------------------+-----------+\n",
      "only showing top 5 rows\n",
      "\n"
     ]
    }
   ],
   "source": [
    "from pyspark.sql import SparkSession\n",
    "\n",
    "# Initialize SparkSession\n",
    "spark = SparkSession.builder \\\n",
    "    .appName(\"ShopEase Data Ingestion\") \\\n",
    "    .getOrCreate()\n",
    "\n",
    "# Load large transactions data from CSV\n",
    "transactions_df = spark.read.option(\"header\", True) \\\n",
    "                            .csv(\"/user/student/spark_project/large_transactions.csv\")\n",
    "\n",
    "# Load large inventory data from JSON\n",
    "inventory_df = spark.read.option(\"multiline\", True) \\\n",
    "                         .json(\"/user/student/spark_project/large_inventory.json\")\n",
    "\n",
    "# Load large customer feedback data from CSV\n",
    "feedback_df = spark.read.option(\"header\", True) \\\n",
    "                        .csv(\"/user/student/spark_project/large_customer_feedback.csv\")\n",
    "\n",
    "# Display a sample of each dataset\n",
    "print(\"Transactions Table:\")\n",
    "transactions_df.show(5)\n",
    "\n",
    "print(\"Inventory Table:\")\n",
    "inventory_df.show(5)\n",
    "\n",
    "print(\"Customer Feedback Table:\")\n",
    "feedback_df.show(5)\n"
   ]
  },
  {
   "cell_type": "markdown",
   "id": "841ff5e2",
   "metadata": {},
   "source": [
    "# Data Cleaning and Transformation with RDDs"
   ]
  },
  {
   "cell_type": "code",
   "execution_count": 2,
   "id": "7026fbe1",
   "metadata": {},
   "outputs": [
    {
     "name": "stderr",
     "output_type": "stream",
     "text": [
      "                                                                                \r"
     ]
    },
    {
     "name": "stdout",
     "output_type": "stream",
     "text": [
      "Cleaned and Anonymized Transactions Data:\n",
      "+--------------+--------------------+----------+--------+------+----------------+\n",
      "|transaction_id|             user_id|product_id|quantity|amount|transaction_date|\n",
      "+--------------+--------------------+----------+--------+------+----------------+\n",
      "|             1|b797d397acb6b79e3...|      9152|       9|305.67|      2023-01-07|\n",
      "|             2|3911f43de537d6765...|      5763|       1|184.31|      2023-05-16|\n",
      "|             3|a0127a90205f9ca56...|      4733|       4|  7.66|      2023-01-20|\n",
      "|             4|3ec95a5c41362c498...|      4207|       1|411.73|      2023-04-19|\n",
      "|             5|90ee0ca050e4b8892...|      1914|       5|499.21|      2023-08-17|\n",
      "+--------------+--------------------+----------+--------+------+----------------+\n",
      "only showing top 5 rows\n",
      "\n"
     ]
    },
    {
     "name": "stderr",
     "output_type": "stream",
     "text": [
      "                                                                                \r"
     ]
    },
    {
     "data": {
      "text/plain": [
       "1000000"
      ]
     },
     "execution_count": 2,
     "metadata": {},
     "output_type": "execute_result"
    }
   ],
   "source": [
    "from pyspark.sql import Row\n",
    "import hashlib\n",
    "\n",
    "# Convert transactions DataFrame to RDD\n",
    "transactions_rdd = transactions_df.rdd\n",
    "\n",
    "# Filter out corrupted records (e.g., missing transaction_id or amount)\n",
    "# Assuming 'transaction_id' and 'amount' are the required fields\n",
    "cleaned_rdd = transactions_rdd.filter(lambda row: row['transaction_id'] is not None or row['amount'] is not None)\n",
    "\n",
    "# Function to Anonymize user IDs using Hashing\n",
    "def anonymize(record):\n",
    "    # Assuming 'user_id' is the field we want to anonymize\n",
    "    hashed_user_id = hashlib.sha256(record['user_id'].encode()).hexdigest()\n",
    "    # Create a new Row object with the hashed user_id\n",
    "    new_record = record.asDict()  # Convert Row to dict\n",
    "    new_record['user_id'] = hashed_user_id  # Replace the user_id with the hashed value\n",
    "    return Row(**new_record)  # Return a new Row object with the updated user_id\n",
    "\n",
    "# Apply the anonymization function to the RDD\n",
    "anonymized_rdd = cleaned_rdd.map(anonymize)\n",
    "\n",
    "# Convert back to DataFrame\n",
    "cleaned_transactions_df = anonymized_rdd.toDF()\n",
    "\n",
    "# Display cleaned and anonymized data\n",
    "print(\"Cleaned and Anonymized Transactions Data:\")\n",
    "cleaned_transactions_df.show(5)\n",
    "\n",
    "cleaned_transactions_df.count()"
   ]
  },
  {
   "cell_type": "markdown",
   "id": "bb571bb5",
   "metadata": {},
   "source": [
    "# DataFrame Operations for Cleaning and Transformation"
   ]
  },
  {
   "cell_type": "code",
   "execution_count": 3,
   "id": "0ffa4c77",
   "metadata": {},
   "outputs": [
    {
     "name": "stdout",
     "output_type": "stream",
     "text": [
      "Cleaned Inventory Data:\n",
      "+------+----------+------------+-----------+\n",
      "| price|product_id|product_name|stock_level|\n",
      "+------+----------+------------+-----------+\n",
      "| 91.89|         1|   product_1|         61|\n",
      "|  9.75|         2|   product_2|        553|\n",
      "|182.89|         3|   product_3|        328|\n",
      "|148.38|         4|   product_4|        347|\n",
      "| 78.17|         5|   product_5|        180|\n",
      "+------+----------+------------+-----------+\n",
      "only showing top 5 rows\n",
      "\n",
      "Joined Data:\n",
      "+----------+-----+------------+-----------+--------------+-------+--------+------+----------------+\n",
      "|product_id|price|product_name|stock_level|transaction_id|user_id|quantity|amount|transaction_date|\n",
      "+----------+-----+------------+-----------+--------------+-------+--------+------+----------------+\n",
      "|      9152|238.7|product_9152|        871|             1|   5388|       9|305.67|      2023-01-07|\n",
      "|      5763|91.52|product_5763|        252|             2|  31656|       1|184.31|      2023-05-16|\n",
      "|      4733|33.22|product_4733|        235|             3|  36725|       4|  7.66|      2023-01-20|\n",
      "|      4207| 6.67|product_4207|        928|             4|  22713|       1|411.73|      2023-04-19|\n",
      "|      1914|29.71|product_1914|          4|             5|  74067|       5|499.21|      2023-08-17|\n",
      "+----------+-----+------------+-----------+--------------+-------+--------+------+----------------+\n",
      "only showing top 5 rows\n",
      "\n"
     ]
    }
   ],
   "source": [
    "from pyspark.sql.functions import col, lower, trim\n",
    "\n",
    "# Step 3: DataFrame Operations for Cleaning and Transformation\n",
    "\n",
    "# Clean inventory data by handling missing values and normalizing text\n",
    "cleaned_inventory_df = inventory_df.dropna(subset=[\"stock_level\"]) \\\n",
    "                                   .withColumn(\"product_name\", lower(trim(col(\"product_name\"))))\n",
    "\n",
    "# Display the cleaned inventory data (first 5 rows)\n",
    "print(\"Cleaned Inventory Data:\")\n",
    "cleaned_inventory_df.show(5)\n",
    "\n",
    "# Assuming you have a column in both DataFrames for joining (e.g., 'product_id')\n",
    "# Perform a join operation to combine user activity logs with cleaned transaction data\n",
    "# For this example, we'll assume joining on 'product_id' from inventory and 'product_id' from transactions\n",
    "joined_df = cleaned_inventory_df.join(transactions_df, \"product_id\", \"inner\")\n",
    "\n",
    "# Display the joined DataFrame (first 5 rows)\n",
    "print(\"Joined Data:\")\n",
    "joined_df.show(5)\n"
   ]
  },
  {
   "cell_type": "markdown",
   "id": "c362b141",
   "metadata": {},
   "source": [
    "# Spark SQL Queries"
   ]
  },
  {
   "cell_type": "markdown",
   "id": "606944b2",
   "metadata": {},
   "source": [
    "## Create Temporary Views for SQL Queries"
   ]
  },
  {
   "cell_type": "code",
   "execution_count": 4,
   "id": "25a805cc",
   "metadata": {},
   "outputs": [],
   "source": [
    "cleaned_transactions_df.createOrReplaceTempView(\"transactions\")\n",
    "cleaned_inventory_df.createOrReplaceTempView(\"inventory\")\n",
    "joined_df.createOrReplaceTempView(\"joined_data\")\n"
   ]
  },
  {
   "cell_type": "markdown",
   "id": "fbc4ccc9",
   "metadata": {},
   "source": [
    "## Top 10 Most Purchased Products in the Last Month"
   ]
  },
  {
   "cell_type": "code",
   "execution_count": 5,
   "id": "6f136f29",
   "metadata": {},
   "outputs": [
    {
     "name": "stdout",
     "output_type": "stream",
     "text": [
      "Top 10 Most Purchased Products in the Last Month:\n"
     ]
    },
    {
     "name": "stderr",
     "output_type": "stream",
     "text": [
      "[Stage 14:=============================================>        (167 + 7) / 200]\r"
     ]
    },
    {
     "name": "stdout",
     "output_type": "stream",
     "text": [
      "+----------+--------------+\n",
      "|product_id|purchase_count|\n",
      "+----------+--------------+\n",
      "|       629|            22|\n",
      "|      4590|            21|\n",
      "|      7350|            20|\n",
      "|      8334|            20|\n",
      "|       127|            20|\n",
      "|      4870|            19|\n",
      "|      1733|            19|\n",
      "|      3673|            19|\n",
      "|      8220|            19|\n",
      "|      6795|            19|\n",
      "+----------+--------------+\n",
      "\n"
     ]
    },
    {
     "name": "stderr",
     "output_type": "stream",
     "text": [
      "\r",
      "                                                                                \r"
     ]
    }
   ],
   "source": [
    "top_products_df = spark.sql(\"\"\"\n",
    "    SELECT product_id, COUNT(*) AS purchase_count\n",
    "    FROM transactions\n",
    "    WHERE transaction_date >= '2023-12-01' and transaction_date <= '2023-12-30'\n",
    "    GROUP BY product_id\n",
    "    ORDER BY purchase_count DESC\n",
    "    LIMIT 10\n",
    "\"\"\")\n",
    "print(\"Top 10 Most Purchased Products in the Last Month:\")\n",
    "top_products_df.show()"
   ]
  },
  {
   "cell_type": "markdown",
   "id": "c19adbd0",
   "metadata": {},
   "source": [
    "## Query: Monthly revenue trends"
   ]
  },
  {
   "cell_type": "code",
   "execution_count": 6,
   "id": "5fb46cee",
   "metadata": {},
   "outputs": [
    {
     "name": "stdout",
     "output_type": "stream",
     "text": [
      "Monthly Revenue Trends:\n"
     ]
    },
    {
     "name": "stderr",
     "output_type": "stream",
     "text": [
      "[Stage 17:==================================>                   (126 + 6) / 200]\r"
     ]
    },
    {
     "name": "stdout",
     "output_type": "stream",
     "text": [
      "+----+-----+--------------------+\n",
      "|year|month|       total_revenue|\n",
      "+----+-----+--------------------+\n",
      "|2023|    1| 2.144845023000001E7|\n",
      "|2023|    2| 1.949427259999998E7|\n",
      "|2023|    3|        2.15441875E7|\n",
      "|2023|    4| 2.081824269000004E7|\n",
      "|2023|    5|2.1434179750000037E7|\n",
      "|2023|    6|2.0885249160000004E7|\n",
      "|2023|    7|2.1363113009999946E7|\n",
      "|2023|    8|2.1311435569999993E7|\n",
      "|2023|    9| 2.066753037999999E7|\n",
      "|2023|   10|2.1576082419999994E7|\n",
      "|2023|   11| 2.090389989999999E7|\n",
      "|2023|   12| 2.084169785999999E7|\n",
      "+----+-----+--------------------+\n",
      "\n"
     ]
    },
    {
     "name": "stderr",
     "output_type": "stream",
     "text": [
      "\r",
      "[Stage 17:============================================>         (166 + 7) / 200]\r",
      "\r",
      "                                                                                \r"
     ]
    }
   ],
   "source": [
    "monthly_revenue_df = spark.sql(\"\"\"\n",
    "    SELECT \n",
    "        YEAR(transaction_date) AS year, \n",
    "        MONTH(transaction_date) AS month, \n",
    "        SUM(amount) AS total_revenue\n",
    "    FROM transactions  \n",
    "    GROUP BY year, month\n",
    "    ORDER BY year, month\n",
    "\"\"\")\n",
    "print(\"Monthly Revenue Trends:\")\n",
    "monthly_revenue_df.show()"
   ]
  },
  {
   "cell_type": "markdown",
   "id": "1f407cc7",
   "metadata": {},
   "source": [
    "## Query: Inventory turnover rates\n"
   ]
  },
  {
   "cell_type": "code",
   "execution_count": 7,
   "id": "44de82d7",
   "metadata": {},
   "outputs": [
    {
     "name": "stdout",
     "output_type": "stream",
     "text": [
      "Inventory Turnover Rates:\n"
     ]
    },
    {
     "name": "stderr",
     "output_type": "stream",
     "text": [
      "[Stage 20:=====================================>                (138 + 9) / 200]\r"
     ]
    },
    {
     "name": "stdout",
     "output_type": "stream",
     "text": [
      "+----------+------------+------------------+---------------+------------------+\n",
      "|product_id|product_name|        total_sold|avg_stock_level|     turnover_rate|\n",
      "+----------+------------+------------------+---------------+------------------+\n",
      "|      7567|product_7567|30000.179999999997|            1.0|30000.179999999997|\n",
      "|      2871|product_2871|29058.729999999996|            1.0|29058.729999999996|\n",
      "|      9501|product_9501|          28807.18|            1.0|          28807.18|\n",
      "|      4373|product_4373|27230.920000000002|            1.0|27230.920000000002|\n",
      "|      7759|product_7759|26989.679999999997|            1.0|26989.679999999997|\n",
      "|      1284|product_1284|          26472.62|            1.0|          26472.62|\n",
      "|      3135|product_3135|24224.690000000002|            1.0|24224.690000000002|\n",
      "|      1467|product_1467|24153.539999999997|            1.0|24153.539999999997|\n",
      "|        40|  product_40|          22390.04|            1.0|          22390.04|\n",
      "|      2821|product_2821|          21368.41|            1.0|          21368.41|\n",
      "|      6771|product_6771|20911.020000000004|            1.0|20911.020000000004|\n",
      "|      9021|product_9021|20415.170000000002|            1.0|20415.170000000002|\n",
      "|      9503|product_9503|          26934.28|            2.0|          13467.14|\n",
      "|      8049|product_8049|          26922.82|            2.0|          13461.41|\n",
      "|      3636|product_3636|          23990.29|            2.0|         11995.145|\n",
      "|      6706|product_6706|           22396.5|            2.0|          11198.25|\n",
      "|      3494|product_3494|          22324.11|            2.0|         11162.055|\n",
      "|      2458|product_2458|22157.430000000004|            2.0|11078.715000000002|\n",
      "|      8268|product_8268|          22079.66|            2.0|          11039.83|\n",
      "|      7405|product_7405|28933.849999999995|            3.0| 9644.616666666665|\n",
      "+----------+------------+------------------+---------------+------------------+\n",
      "only showing top 20 rows\n",
      "\n"
     ]
    },
    {
     "name": "stderr",
     "output_type": "stream",
     "text": [
      "\r",
      "[Stage 20:==================================================>   (188 + 8) / 200]\r",
      "\r",
      "                                                                                \r"
     ]
    }
   ],
   "source": [
    "turnover_rate_df = spark.sql(\"\"\"\n",
    "    SELECT \n",
    "        i.product_id, \n",
    "        i.product_name, \n",
    "        SUM(t.amount) AS total_sold,\n",
    "        AVG(i.stock_level) AS avg_stock_level,\n",
    "        (SUM(t.amount) / AVG(i.stock_level)) AS turnover_rate\n",
    "    FROM inventory i \n",
    "    JOIN transactions t ON i.product_id = t.product_id \n",
    "    GROUP BY i.product_id, i.product_name\n",
    "    ORDER BY turnover_rate DESC\n",
    "\"\"\")\n",
    "print(\"Inventory Turnover Rates:\")\n",
    "turnover_rate_df.show()"
   ]
  },
  {
   "cell_type": "markdown",
   "id": "3592c2c3",
   "metadata": {},
   "source": [
    "# Top Products Bar Chart"
   ]
  },
  {
   "cell_type": "code",
   "execution_count": 12,
   "id": "8e2324a5",
   "metadata": {},
   "outputs": [
    {
     "name": "stderr",
     "output_type": "stream",
     "text": [
      "                                                                                \r"
     ]
    },
    {
     "data": {
      "image/png": "[encoded data removed]",
      "text/plain": [
       "<Figure size 720x432 with 1 Axes>"
      ]
     },
     "metadata": {
      "needs_background": "light"
     },
     "output_type": "display_data"
    }
   ],
   "source": [
    "import matplotlib.pyplot as plt\n",
    "\n",
    "# Convert top products Spark DataFrame to Pandas for plotting\n",
    "top_products_pandas = top_products_df.toPandas()\n",
    "\n",
    "# Plotting a bar chart\n",
    "plt.figure(figsize=(10, 6))\n",
    "plt.bar(top_products_pandas['product_id'], top_products_pandas['purchase_count'], color='skyblue')\n",
    "plt.title('Top 10 Most Purchased Products in the Last Month')\n",
    "plt.xlabel('Product ID')\n",
    "plt.ylabel('Number of Purchases')\n",
    "plt.xticks(rotation=45)\n",
    "plt.show()\n"
   ]
  },
  {
   "cell_type": "markdown",
   "id": "7ad57896",
   "metadata": {},
   "source": [
    "# Revenue Trend Line Chart"
   ]
  },
  {
   "cell_type": "code",
   "execution_count": 13,
   "id": "581f68fe",
   "metadata": {},
   "outputs": [
    {
     "name": "stderr",
     "output_type": "stream",
     "text": [
      "                                                                                \r"
     ]
    },
    {
     "data": {
      "image/png": "[encoded data removed]",
      "text/plain": [
       "<Figure size 720x432 with 1 Axes>"
      ]
     },
     "metadata": {
      "needs_background": "light"
     },
     "output_type": "display_data"
    }
   ],
   "source": [
    "# Convert monthly revenue Spark DataFrame to Pandas for plotting\n",
    "monthly_revenue_pandas = monthly_revenue_df.toPandas()\n",
    "\n",
    "# Plotting a line chart\n",
    "plt.figure(figsize=(10, 6))\n",
    "plt.plot(monthly_revenue_pandas['month'], monthly_revenue_pandas['total_revenue'], marker='o', color='b')\n",
    "plt.title('Monthly Revenue Trends')\n",
    "plt.xlabel('Month')\n",
    "plt.ylabel('Total Revenue')\n",
    "plt.xticks(rotation=45)\n",
    "plt.grid(True)\n",
    "plt.show()"
   ]
  },
  {
   "cell_type": "markdown",
   "id": "7531504d",
   "metadata": {},
   "source": [
    "# Inventory Turnover Heatmap"
   ]
  },
  {
   "cell_type": "code",
   "execution_count": 10,
   "id": "ac66d6a7",
   "metadata": {},
   "outputs": [
    {
     "name": "stderr",
     "output_type": "stream",
     "text": [
      "                                                                                \r"
     ]
    },
    {
     "data": {
      "image/png": "[encoded data removed]",
      "text/plain": [
       "<Figure size 720x432 with 2 Axes>"
      ]
     },
     "metadata": {
      "needs_background": "light"
     },
     "output_type": "display_data"
    }
   ],
   "source": [
    "import seaborn as sns\n",
    "import matplotlib.pyplot as plt\n",
    "# Limit the rows to a manageable size (e.g., 100 rows)\n",
    "turnover_rate_sample = turnover_rate_df.limit(15)\n",
    "\n",
    "# Convert the limited Spark DataFrame to Pandas\n",
    "turnover_rate_pandas = turnover_rate_sample.toPandas()\n",
    "\n",
    "# Plotting a heatmap of turnover rates from the sample\n",
    "plt.figure(figsize=(10, 6))\n",
    "sns.heatmap(turnover_rate_pandas.pivot(\"product_name\", \"product_id\", \"turnover_rate\"), annot=True, cmap=\"YlGnBu\", fmt=\".2f\")\n",
    "plt.title('Inventory Turnover Rates by Product (Sample)')\n",
    "plt.xlabel('Product ID')\n",
    "plt.ylabel('Product Name')\n",
    "plt.show()\n"
   ]
  },
  {
   "cell_type": "markdown",
   "id": "90bcae31",
   "metadata": {},
   "source": [
    "# Store Data into HDFS"
   ]
  },
  {
   "cell_type": "code",
   "execution_count": 8,
   "id": "a71ff685",
   "metadata": {},
   "outputs": [
    {
     "name": "stderr",
     "output_type": "stream",
     "text": [
      "                                                                                \r"
     ]
    }
   ],
   "source": [
    "\n",
    "output_path_hdfs = \"hdfs:///user/student/spark_project/batch_data\"\n",
    "\n",
    "# Save the cleaned transactions data to HDFS in Parquet format\n",
    "cleaned_transactions_df.write \\\n",
    "    .mode(\"overwrite\") \\\n",
    "    .parquet(f\"{output_path_hdfs}/transactions_parquet\")\n",
    "\n",
    "# Save the cleaned inventory data to HDFS\n",
    "cleaned_inventory_df.write \\\n",
    "    .mode(\"overwrite\") \\\n",
    "    .parquet(f\"{output_path_hdfs}/inventory_parquet\")\n",
    "\n",
    "# Save the joined data to HDFS\n",
    "joined_df.write \\\n",
    "    .mode(\"overwrite\") \\\n",
    "    .parquet(f\"{output_path_hdfs}/joined_data_parquet\")"
   ]
  },
  {
   "cell_type": "code",
   "execution_count": null,
   "id": "b521ab20",
   "metadata": {},
   "outputs": [],
   "source": []
  },
  {
   "cell_type": "code",
   "execution_count": null,
   "id": "386b5769",
   "metadata": {},
   "outputs": [],
   "source": []
  },
  {
   "cell_type": "code",
   "execution_count": null,
   "id": "7c2cc6a2",
   "metadata": {},
   "outputs": [],
   "source": []
  },
  {
   "cell_type": "code",
   "execution_count": null,
   "id": "bae5bd20",
   "metadata": {},
   "outputs": [],
   "source": []
  }
 ],
 "metadata": {
  "kernelspec": {
   "display_name": "Python 3 (ipykernel)",
   "language": "python",
   "name": "python3"
  },
  "language_info": {
   "codemirror_mode": {
    "name": "ipython",
    "version": 3
   },
   "file_extension": ".py",
   "mimetype": "text/x-python",
   "name": "python",
   "nbconvert_exporter": "python",
   "pygments_lexer": "ipython3",
   "version": "3.8.11"
  }
 },
 "nbformat": 4,
 "nbformat_minor": 5
}
